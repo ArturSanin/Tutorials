{
 "cells": [
  {
   "cell_type": "code",
   "execution_count": 1,
   "id": "e7818349-7029-4a73-a5eb-2fd03780fa67",
   "metadata": {},
   "outputs": [],
   "source": [
    "# Importing the Pandas library.\n",
    "import pandas as pd"
   ]
  },
  {
   "cell_type": "code",
   "execution_count": 2,
   "id": "53eb11d4-86e1-4fbe-b357-3d671c332ebf",
   "metadata": {},
   "outputs": [],
   "source": [
    "# Saving the file path to the dataset.\n",
    "path = \"Customer Purchasing Behaviors.csv\"\n",
    "\n",
    "# Loading the data into a dataframe.\n",
    "df = pd.read_csv(path)"
   ]
  },
  {
   "cell_type": "code",
   "execution_count": 3,
   "id": "186336a8-e9b8-48c3-b1d3-e4ecc9ea2c28",
   "metadata": {},
   "outputs": [
    {
     "data": {
      "text/html": [
       "<div>\n",
       "<style scoped>\n",
       "    .dataframe tbody tr th:only-of-type {\n",
       "        vertical-align: middle;\n",
       "    }\n",
       "\n",
       "    .dataframe tbody tr th {\n",
       "        vertical-align: top;\n",
       "    }\n",
       "\n",
       "    .dataframe thead th {\n",
       "        text-align: right;\n",
       "    }\n",
       "</style>\n",
       "<table border=\"1\" class=\"dataframe\">\n",
       "  <thead>\n",
       "    <tr style=\"text-align: right;\">\n",
       "      <th></th>\n",
       "      <th>user_id</th>\n",
       "      <th>age</th>\n",
       "      <th>annual_income</th>\n",
       "      <th>purchase_amount</th>\n",
       "      <th>loyalty_score</th>\n",
       "      <th>region</th>\n",
       "      <th>purchase_frequency</th>\n",
       "    </tr>\n",
       "  </thead>\n",
       "  <tbody>\n",
       "    <tr>\n",
       "      <th>0</th>\n",
       "      <td>1</td>\n",
       "      <td>25</td>\n",
       "      <td>45000</td>\n",
       "      <td>200</td>\n",
       "      <td>4.5</td>\n",
       "      <td>North</td>\n",
       "      <td>12</td>\n",
       "    </tr>\n",
       "    <tr>\n",
       "      <th>1</th>\n",
       "      <td>2</td>\n",
       "      <td>34</td>\n",
       "      <td>55000</td>\n",
       "      <td>350</td>\n",
       "      <td>7.0</td>\n",
       "      <td>South</td>\n",
       "      <td>18</td>\n",
       "    </tr>\n",
       "    <tr>\n",
       "      <th>2</th>\n",
       "      <td>3</td>\n",
       "      <td>45</td>\n",
       "      <td>65000</td>\n",
       "      <td>500</td>\n",
       "      <td>8.0</td>\n",
       "      <td>West</td>\n",
       "      <td>22</td>\n",
       "    </tr>\n",
       "    <tr>\n",
       "      <th>3</th>\n",
       "      <td>4</td>\n",
       "      <td>22</td>\n",
       "      <td>30000</td>\n",
       "      <td>150</td>\n",
       "      <td>3.0</td>\n",
       "      <td>East</td>\n",
       "      <td>10</td>\n",
       "    </tr>\n",
       "    <tr>\n",
       "      <th>4</th>\n",
       "      <td>5</td>\n",
       "      <td>29</td>\n",
       "      <td>47000</td>\n",
       "      <td>220</td>\n",
       "      <td>4.8</td>\n",
       "      <td>North</td>\n",
       "      <td>13</td>\n",
       "    </tr>\n",
       "  </tbody>\n",
       "</table>\n",
       "</div>"
      ],
      "text/plain": [
       "   user_id  age  annual_income  purchase_amount  loyalty_score region  \\\n",
       "0        1   25          45000              200            4.5  North   \n",
       "1        2   34          55000              350            7.0  South   \n",
       "2        3   45          65000              500            8.0   West   \n",
       "3        4   22          30000              150            3.0   East   \n",
       "4        5   29          47000              220            4.8  North   \n",
       "\n",
       "   purchase_frequency  \n",
       "0                  12  \n",
       "1                  18  \n",
       "2                  22  \n",
       "3                  10  \n",
       "4                  13  "
      ]
     },
     "execution_count": 3,
     "metadata": {},
     "output_type": "execute_result"
    }
   ],
   "source": [
    "# Displaying the first 5 rows of the DataFrame.\n",
    "df.head()"
   ]
  },
  {
   "cell_type": "code",
   "execution_count": 4,
   "id": "4d8a1791-6da3-4127-8178-e6f602aa3cf5",
   "metadata": {},
   "outputs": [
    {
     "data": {
      "text/html": [
       "<div>\n",
       "<style scoped>\n",
       "    .dataframe tbody tr th:only-of-type {\n",
       "        vertical-align: middle;\n",
       "    }\n",
       "\n",
       "    .dataframe tbody tr th {\n",
       "        vertical-align: top;\n",
       "    }\n",
       "\n",
       "    .dataframe thead th {\n",
       "        text-align: right;\n",
       "    }\n",
       "</style>\n",
       "<table border=\"1\" class=\"dataframe\">\n",
       "  <thead>\n",
       "    <tr style=\"text-align: right;\">\n",
       "      <th></th>\n",
       "      <th>user_id</th>\n",
       "      <th>age</th>\n",
       "      <th>annual_income</th>\n",
       "      <th>purchase_amount</th>\n",
       "      <th>loyalty_score</th>\n",
       "      <th>region</th>\n",
       "      <th>purchase_frequency</th>\n",
       "    </tr>\n",
       "  </thead>\n",
       "  <tbody>\n",
       "    <tr>\n",
       "      <th>233</th>\n",
       "      <td>234</td>\n",
       "      <td>40</td>\n",
       "      <td>60000</td>\n",
       "      <td>450</td>\n",
       "      <td>7.2</td>\n",
       "      <td>West</td>\n",
       "      <td>20</td>\n",
       "    </tr>\n",
       "    <tr>\n",
       "      <th>234</th>\n",
       "      <td>235</td>\n",
       "      <td>38</td>\n",
       "      <td>59000</td>\n",
       "      <td>430</td>\n",
       "      <td>6.9</td>\n",
       "      <td>North</td>\n",
       "      <td>20</td>\n",
       "    </tr>\n",
       "    <tr>\n",
       "      <th>235</th>\n",
       "      <td>236</td>\n",
       "      <td>54</td>\n",
       "      <td>74000</td>\n",
       "      <td>630</td>\n",
       "      <td>9.4</td>\n",
       "      <td>South</td>\n",
       "      <td>27</td>\n",
       "    </tr>\n",
       "    <tr>\n",
       "      <th>236</th>\n",
       "      <td>237</td>\n",
       "      <td>32</td>\n",
       "      <td>52000</td>\n",
       "      <td>360</td>\n",
       "      <td>5.8</td>\n",
       "      <td>West</td>\n",
       "      <td>18</td>\n",
       "    </tr>\n",
       "    <tr>\n",
       "      <th>237</th>\n",
       "      <td>238</td>\n",
       "      <td>31</td>\n",
       "      <td>51000</td>\n",
       "      <td>340</td>\n",
       "      <td>5.6</td>\n",
       "      <td>North</td>\n",
       "      <td>17</td>\n",
       "    </tr>\n",
       "  </tbody>\n",
       "</table>\n",
       "</div>"
      ],
      "text/plain": [
       "     user_id  age  annual_income  purchase_amount  loyalty_score region  \\\n",
       "233      234   40          60000              450            7.2   West   \n",
       "234      235   38          59000              430            6.9  North   \n",
       "235      236   54          74000              630            9.4  South   \n",
       "236      237   32          52000              360            5.8   West   \n",
       "237      238   31          51000              340            5.6  North   \n",
       "\n",
       "     purchase_frequency  \n",
       "233                  20  \n",
       "234                  20  \n",
       "235                  27  \n",
       "236                  18  \n",
       "237                  17  "
      ]
     },
     "execution_count": 4,
     "metadata": {},
     "output_type": "execute_result"
    }
   ],
   "source": [
    "# Displaying the last 5 rows of the DataFrame.\n",
    "df.tail()"
   ]
  },
  {
   "cell_type": "code",
   "execution_count": 26,
   "id": "2bebb9cd-78af-4f0e-8f04-e92db180a4aa",
   "metadata": {},
   "outputs": [
    {
     "data": {
      "text/html": [
       "<div>\n",
       "<style scoped>\n",
       "    .dataframe tbody tr th:only-of-type {\n",
       "        vertical-align: middle;\n",
       "    }\n",
       "\n",
       "    .dataframe tbody tr th {\n",
       "        vertical-align: top;\n",
       "    }\n",
       "\n",
       "    .dataframe thead th {\n",
       "        text-align: right;\n",
       "    }\n",
       "</style>\n",
       "<table border=\"1\" class=\"dataframe\">\n",
       "  <thead>\n",
       "    <tr style=\"text-align: right;\">\n",
       "      <th></th>\n",
       "      <th>user_id</th>\n",
       "      <th>age</th>\n",
       "      <th>annual_income</th>\n",
       "      <th>purchase_amount</th>\n",
       "      <th>loyalty_score</th>\n",
       "      <th>region</th>\n",
       "      <th>purchase_frequency</th>\n",
       "    </tr>\n",
       "  </thead>\n",
       "  <tbody>\n",
       "    <tr>\n",
       "      <th>0</th>\n",
       "      <td>1</td>\n",
       "      <td>25</td>\n",
       "      <td>45000</td>\n",
       "      <td>200</td>\n",
       "      <td>4.5</td>\n",
       "      <td>North</td>\n",
       "      <td>12</td>\n",
       "    </tr>\n",
       "    <tr>\n",
       "      <th>1</th>\n",
       "      <td>2</td>\n",
       "      <td>34</td>\n",
       "      <td>55000</td>\n",
       "      <td>350</td>\n",
       "      <td>7.0</td>\n",
       "      <td>South</td>\n",
       "      <td>18</td>\n",
       "    </tr>\n",
       "    <tr>\n",
       "      <th>2</th>\n",
       "      <td>3</td>\n",
       "      <td>45</td>\n",
       "      <td>65000</td>\n",
       "      <td>500</td>\n",
       "      <td>8.0</td>\n",
       "      <td>West</td>\n",
       "      <td>22</td>\n",
       "    </tr>\n",
       "    <tr>\n",
       "      <th>3</th>\n",
       "      <td>4</td>\n",
       "      <td>22</td>\n",
       "      <td>30000</td>\n",
       "      <td>150</td>\n",
       "      <td>3.0</td>\n",
       "      <td>East</td>\n",
       "      <td>10</td>\n",
       "    </tr>\n",
       "    <tr>\n",
       "      <th>4</th>\n",
       "      <td>5</td>\n",
       "      <td>29</td>\n",
       "      <td>47000</td>\n",
       "      <td>220</td>\n",
       "      <td>4.8</td>\n",
       "      <td>North</td>\n",
       "      <td>13</td>\n",
       "    </tr>\n",
       "    <tr>\n",
       "      <th>...</th>\n",
       "      <td>...</td>\n",
       "      <td>...</td>\n",
       "      <td>...</td>\n",
       "      <td>...</td>\n",
       "      <td>...</td>\n",
       "      <td>...</td>\n",
       "      <td>...</td>\n",
       "    </tr>\n",
       "    <tr>\n",
       "      <th>233</th>\n",
       "      <td>234</td>\n",
       "      <td>40</td>\n",
       "      <td>60000</td>\n",
       "      <td>450</td>\n",
       "      <td>7.2</td>\n",
       "      <td>West</td>\n",
       "      <td>20</td>\n",
       "    </tr>\n",
       "    <tr>\n",
       "      <th>234</th>\n",
       "      <td>235</td>\n",
       "      <td>38</td>\n",
       "      <td>59000</td>\n",
       "      <td>430</td>\n",
       "      <td>6.9</td>\n",
       "      <td>North</td>\n",
       "      <td>20</td>\n",
       "    </tr>\n",
       "    <tr>\n",
       "      <th>235</th>\n",
       "      <td>236</td>\n",
       "      <td>54</td>\n",
       "      <td>74000</td>\n",
       "      <td>630</td>\n",
       "      <td>9.4</td>\n",
       "      <td>South</td>\n",
       "      <td>27</td>\n",
       "    </tr>\n",
       "    <tr>\n",
       "      <th>236</th>\n",
       "      <td>237</td>\n",
       "      <td>32</td>\n",
       "      <td>52000</td>\n",
       "      <td>360</td>\n",
       "      <td>5.8</td>\n",
       "      <td>West</td>\n",
       "      <td>18</td>\n",
       "    </tr>\n",
       "    <tr>\n",
       "      <th>237</th>\n",
       "      <td>238</td>\n",
       "      <td>31</td>\n",
       "      <td>51000</td>\n",
       "      <td>340</td>\n",
       "      <td>5.6</td>\n",
       "      <td>North</td>\n",
       "      <td>17</td>\n",
       "    </tr>\n",
       "  </tbody>\n",
       "</table>\n",
       "<p>238 rows × 7 columns</p>\n",
       "</div>"
      ],
      "text/plain": [
       "     user_id  age  annual_income  purchase_amount  loyalty_score region  \\\n",
       "0          1   25          45000              200            4.5  North   \n",
       "1          2   34          55000              350            7.0  South   \n",
       "2          3   45          65000              500            8.0   West   \n",
       "3          4   22          30000              150            3.0   East   \n",
       "4          5   29          47000              220            4.8  North   \n",
       "..       ...  ...            ...              ...            ...    ...   \n",
       "233      234   40          60000              450            7.2   West   \n",
       "234      235   38          59000              430            6.9  North   \n",
       "235      236   54          74000              630            9.4  South   \n",
       "236      237   32          52000              360            5.8   West   \n",
       "237      238   31          51000              340            5.6  North   \n",
       "\n",
       "     purchase_frequency  \n",
       "0                    12  \n",
       "1                    18  \n",
       "2                    22  \n",
       "3                    10  \n",
       "4                    13  \n",
       "..                  ...  \n",
       "233                  20  \n",
       "234                  20  \n",
       "235                  27  \n",
       "236                  18  \n",
       "237                  17  \n",
       "\n",
       "[238 rows x 7 columns]"
      ]
     },
     "execution_count": 26,
     "metadata": {},
     "output_type": "execute_result"
    }
   ],
   "source": [
    "# Displaying the first and the last 5 rows of the DataFrame.\n",
    "df"
   ]
  },
  {
   "cell_type": "markdown",
   "id": "e890376c-c883-4417-9ee3-ea8b95927435",
   "metadata": {},
   "source": [
    "# DataFrame attributes"
   ]
  },
  {
   "cell_type": "markdown",
   "id": "2cb30f33-3b08-4261-bfe4-5f5de9c4d098",
   "metadata": {
    "jp-MarkdownHeadingCollapsed": true
   },
   "source": [
    "## .shape attribute"
   ]
  },
  {
   "cell_type": "code",
   "execution_count": 5,
   "id": "4613e7c6-9580-4ab6-b684-9b8ec0d36838",
   "metadata": {},
   "outputs": [
    {
     "data": {
      "text/plain": [
       "(238, 7)"
      ]
     },
     "execution_count": 5,
     "metadata": {},
     "output_type": "execute_result"
    }
   ],
   "source": [
    "# Shape of the dataset. First value is the row count, second value is the column count.\n",
    "df_shape = df.shape\n",
    "df_shape"
   ]
  },
  {
   "cell_type": "code",
   "execution_count": 6,
   "id": "febcff41-02d7-4be4-9e41-723e24fc2d98",
   "metadata": {},
   "outputs": [
    {
     "data": {
      "text/plain": [
       "238"
      ]
     },
     "execution_count": 6,
     "metadata": {},
     "output_type": "execute_result"
    }
   ],
   "source": [
    "# Row count.\n",
    "df_row_count = df_shape[0]\n",
    "df_row_count"
   ]
  },
  {
   "cell_type": "code",
   "execution_count": 7,
   "id": "467c0e99-d6f0-47f6-ac1d-b386dba59717",
   "metadata": {},
   "outputs": [
    {
     "data": {
      "text/plain": [
       "7"
      ]
     },
     "execution_count": 7,
     "metadata": {},
     "output_type": "execute_result"
    }
   ],
   "source": [
    "# Column count.\n",
    "df_column_count = df_shape[1]\n",
    "df_column_count"
   ]
  },
  {
   "cell_type": "markdown",
   "id": "08c3a6c7-9e1c-4111-8435-640b8b95535b",
   "metadata": {
    "jp-MarkdownHeadingCollapsed": true
   },
   "source": [
    "## .columns attribute"
   ]
  },
  {
   "cell_type": "code",
   "execution_count": 8,
   "id": "be6445de-078a-4889-9602-77642fa8d772",
   "metadata": {},
   "outputs": [
    {
     "data": {
      "text/plain": [
       "Index(['user_id', 'age', 'annual_income', 'purchase_amount', 'loyalty_score',\n",
       "       'region', 'purchase_frequency'],\n",
       "      dtype='object')"
      ]
     },
     "execution_count": 8,
     "metadata": {},
     "output_type": "execute_result"
    }
   ],
   "source": [
    "# Dataset column names.\n",
    "df_columns = df.columns\n",
    "df_columns"
   ]
  },
  {
   "cell_type": "code",
   "execution_count": 9,
   "id": "e66f8687-8305-4739-b994-9fcb8e3ddfb1",
   "metadata": {},
   "outputs": [
    {
     "data": {
      "text/plain": [
       "['user_id',\n",
       " 'age',\n",
       " 'annual_income',\n",
       " 'purchase_amount',\n",
       " 'loyalty_score',\n",
       " 'region',\n",
       " 'purchase_frequency']"
      ]
     },
     "execution_count": 9,
     "metadata": {},
     "output_type": "execute_result"
    }
   ],
   "source": [
    "# Saving the column names as a list.\n",
    "df_columns_list = list(df.columns)\n",
    "df_columns_list"
   ]
  },
  {
   "cell_type": "code",
   "execution_count": 10,
   "id": "095e8b27-2baa-467d-ab46-fc0638c8efb9",
   "metadata": {},
   "outputs": [
    {
     "data": {
      "text/plain": [
       "{'age',\n",
       " 'annual_income',\n",
       " 'loyalty_score',\n",
       " 'purchase_amount',\n",
       " 'purchase_frequency',\n",
       " 'region',\n",
       " 'user_id'}"
      ]
     },
     "execution_count": 10,
     "metadata": {},
     "output_type": "execute_result"
    }
   ],
   "source": [
    "# Saving the column names as a set.\n",
    "df_columns_set = set(df.columns)\n",
    "df_columns_set"
   ]
  },
  {
   "cell_type": "markdown",
   "id": "cbc02f9a-fa4d-477c-b76a-6d15cda62bdd",
   "metadata": {
    "jp-MarkdownHeadingCollapsed": true
   },
   "source": [
    "## .size attribute"
   ]
  },
  {
   "cell_type": "code",
   "execution_count": 11,
   "id": "79046c48-4dc1-4566-b6d6-a9517d6b3b1b",
   "metadata": {},
   "outputs": [
    {
     "data": {
      "text/plain": [
       "1666"
      ]
     },
     "execution_count": 11,
     "metadata": {},
     "output_type": "execute_result"
    }
   ],
   "source": [
    "# Size of the DataFrame. Size is the product of row count and column count\n",
    "df_size = df.size\n",
    "df_size"
   ]
  },
  {
   "cell_type": "markdown",
   "id": "3eb66bec-7849-4570-93a6-1ebbd0e76178",
   "metadata": {
    "jp-MarkdownHeadingCollapsed": true
   },
   "source": [
    "## .dtypes attribute"
   ]
  },
  {
   "cell_type": "code",
   "execution_count": 12,
   "id": "33769ce7-183d-49f0-bf89-3b57f796de9c",
   "metadata": {},
   "outputs": [
    {
     "data": {
      "text/plain": [
       "user_id                 int64\n",
       "age                     int64\n",
       "annual_income           int64\n",
       "purchase_amount         int64\n",
       "loyalty_score         float64\n",
       "region                 object\n",
       "purchase_frequency      int64\n",
       "dtype: object"
      ]
     },
     "execution_count": 12,
     "metadata": {},
     "output_type": "execute_result"
    }
   ],
   "source": [
    "# Data type for each column, saved as a pandas.Series.\n",
    "df_dtypes = df.dtypes\n",
    "df_dtypes"
   ]
  },
  {
   "cell_type": "code",
   "execution_count": 13,
   "id": "56f24eb6-8cc4-4bc0-92d0-200744dbe0fe",
   "metadata": {},
   "outputs": [
    {
     "data": {
      "text/plain": [
       "[dtype('int64'),\n",
       " dtype('int64'),\n",
       " dtype('int64'),\n",
       " dtype('int64'),\n",
       " dtype('float64'),\n",
       " dtype('O'),\n",
       " dtype('int64')]"
      ]
     },
     "execution_count": 13,
     "metadata": {},
     "output_type": "execute_result"
    }
   ],
   "source": [
    "# Data types in a list. Every element is a numpy.dtype object.\n",
    "df_dtypes_list = list(df_dtypes)\n",
    "df_dtypes_list"
   ]
  },
  {
   "cell_type": "markdown",
   "id": "b3ec8ad3-3902-491f-a187-64ca717fd7df",
   "metadata": {
    "jp-MarkdownHeadingCollapsed": true
   },
   "source": [
    "## .empty attribute "
   ]
  },
  {
   "cell_type": "code",
   "execution_count": 14,
   "id": "dac79c0f-3c5f-4308-a1c2-0f277266bb8f",
   "metadata": {},
   "outputs": [
    {
     "data": {
      "text/plain": [
       "False"
      ]
     },
     "execution_count": 14,
     "metadata": {},
     "output_type": "execute_result"
    }
   ],
   "source": [
    "# Returns True if the DataFrame is empty, else False.\n",
    "df.empty"
   ]
  },
  {
   "cell_type": "markdown",
   "id": "989d9c31-32fa-42a6-a883-a03949693ece",
   "metadata": {},
   "source": [
    "# Selecting subsets of a DataFrame"
   ]
  },
  {
   "cell_type": "markdown",
   "id": "c3a15cb8-517d-43d9-97af-21a23ff3e956",
   "metadata": {
    "jp-MarkdownHeadingCollapsed": true
   },
   "source": [
    "## Selecting a single column"
   ]
  },
  {
   "cell_type": "code",
   "execution_count": 16,
   "id": "ff940c62-6cdd-49f7-8de6-582a89f5eb80",
   "metadata": {},
   "outputs": [
    {
     "data": {
      "text/plain": [
       "0        1\n",
       "1        2\n",
       "2        3\n",
       "3        4\n",
       "4        5\n",
       "      ... \n",
       "233    234\n",
       "234    235\n",
       "235    236\n",
       "236    237\n",
       "237    238\n",
       "Name: user_id, Length: 238, dtype: int64"
      ]
     },
     "execution_count": 16,
     "metadata": {},
     "output_type": "execute_result"
    }
   ],
   "source": [
    "# Selecting the column user_id using a one element list.\n",
    "user_id = df[\"user_id\"]\n",
    "user_id"
   ]
  },
  {
   "cell_type": "code",
   "execution_count": 17,
   "id": "225c34e0-1abb-4e8d-b145-f3c7f8c25e29",
   "metadata": {},
   "outputs": [
    {
     "data": {
      "text/plain": [
       "0      25\n",
       "1      34\n",
       "2      45\n",
       "3      22\n",
       "4      29\n",
       "       ..\n",
       "233    40\n",
       "234    38\n",
       "235    54\n",
       "236    32\n",
       "237    31\n",
       "Name: age, Length: 238, dtype: int64"
      ]
     },
     "execution_count": 17,
     "metadata": {},
     "output_type": "execute_result"
    }
   ],
   "source": [
    "# Selecting the column age using the dot operator.\n",
    "age = df.age\n",
    "age"
   ]
  },
  {
   "cell_type": "code",
   "execution_count": 18,
   "id": "6f769d0e-b754-45b8-ae3f-8405bd94c7be",
   "metadata": {},
   "outputs": [
    {
     "data": {
      "text/plain": [
       "0      45000\n",
       "1      55000\n",
       "2      65000\n",
       "3      30000\n",
       "4      47000\n",
       "       ...  \n",
       "233    60000\n",
       "234    59000\n",
       "235    74000\n",
       "236    52000\n",
       "237    51000\n",
       "Name: annual_income, Length: 238, dtype: int64"
      ]
     },
     "execution_count": 18,
     "metadata": {},
     "output_type": "execute_result"
    }
   ],
   "source": [
    "# Selecting the column annual_income using iloc. \n",
    "annual_income = df.iloc[:, 2]\n",
    "annual_income"
   ]
  },
  {
   "cell_type": "code",
   "execution_count": 19,
   "id": "11543052-e9d1-4c25-b2ae-85b3d0555f6b",
   "metadata": {},
   "outputs": [
    {
     "data": {
      "text/plain": [
       "0      45000\n",
       "1      55000\n",
       "2      65000\n",
       "3      30000\n",
       "4      47000\n",
       "       ...  \n",
       "233    60000\n",
       "234    59000\n",
       "235    74000\n",
       "236    52000\n",
       "237    51000\n",
       "Name: annual_income, Length: 238, dtype: int64"
      ]
     },
     "execution_count": 19,
     "metadata": {},
     "output_type": "execute_result"
    }
   ],
   "source": [
    "# Selecting the column annual_income using iloc, diffrent notation. \n",
    "annual_income_2 = df.iloc[0:df.shape[0], 2]\n",
    "annual_income_2"
   ]
  },
  {
   "cell_type": "code",
   "execution_count": 20,
   "id": "28ded107-7bdf-4365-93f1-2f11bd1a6c0d",
   "metadata": {},
   "outputs": [
    {
     "data": {
      "text/plain": [
       "0      200\n",
       "1      350\n",
       "2      500\n",
       "3      150\n",
       "4      220\n",
       "      ... \n",
       "233    450\n",
       "234    430\n",
       "235    630\n",
       "236    360\n",
       "237    340\n",
       "Name: purchase_amount, Length: 238, dtype: int64"
      ]
     },
     "execution_count": 20,
     "metadata": {},
     "output_type": "execute_result"
    }
   ],
   "source": [
    "# Selecting the column annual_income using loc. \n",
    "purchase_amount = df.loc[:, \"purchase_amount\"]\n",
    "purchase_amount"
   ]
  },
  {
   "cell_type": "code",
   "execution_count": 21,
   "id": "0e68d484-6eb6-467d-b998-240709bf2c49",
   "metadata": {},
   "outputs": [],
   "source": [
    "# Selecting the other columns.\n",
    "loyalty_score = df[\"loyalty_score\"]\n",
    "region = df[\"region\"]\n",
    "purchase_frequency = df[\"purchase_frequency\"]"
   ]
  },
  {
   "cell_type": "markdown",
   "id": "562dfd8b-75f6-4629-b47e-056a41083195",
   "metadata": {
    "jp-MarkdownHeadingCollapsed": true
   },
   "source": [
    "# Pandas describe() function"
   ]
  },
  {
   "cell_type": "code",
   "execution_count": 22,
   "id": "09e203aa-8418-4fd1-8d7e-5b743e64b571",
   "metadata": {},
   "outputs": [
    {
     "name": "stdout",
     "output_type": "stream",
     "text": [
      "          user_id         age  annual_income  purchase_amount  loyalty_score  \\\n",
      "count  238.000000  238.000000     238.000000       238.000000     238.000000   \n",
      "mean   119.500000   38.676471   57407.563025       425.630252       6.794118   \n",
      "std     68.848868    9.351118   11403.875717       140.052062       1.899047   \n",
      "min      1.000000   22.000000   30000.000000       150.000000       3.000000   \n",
      "25%     60.250000   31.000000   50000.000000       320.000000       5.500000   \n",
      "50%    119.500000   39.000000   59000.000000       440.000000       7.000000   \n",
      "75%    178.750000   46.750000   66750.000000       527.500000       8.275000   \n",
      "max    238.000000   55.000000   75000.000000       640.000000       9.500000   \n",
      "\n",
      "       purchase_frequency  \n",
      "count          238.000000  \n",
      "mean            19.798319  \n",
      "std              4.562884  \n",
      "min             10.000000  \n",
      "25%             17.000000  \n",
      "50%             20.000000  \n",
      "75%             23.000000  \n",
      "max             28.000000  \n",
      "count    238.000000\n",
      "mean     119.500000\n",
      "std       68.848868\n",
      "min        1.000000\n",
      "25%       60.250000\n",
      "50%      119.500000\n",
      "75%      178.750000\n",
      "max      238.000000\n",
      "Name: user_id, dtype: float64\n",
      "count    238.000000\n",
      "mean      38.676471\n",
      "std        9.351118\n",
      "min       22.000000\n",
      "25%       31.000000\n",
      "50%       39.000000\n",
      "75%       46.750000\n",
      "max       55.000000\n",
      "Name: age, dtype: float64\n",
      "count      238.000000\n",
      "mean     57407.563025\n",
      "std      11403.875717\n",
      "min      30000.000000\n",
      "25%      50000.000000\n",
      "50%      59000.000000\n",
      "75%      66750.000000\n",
      "max      75000.000000\n",
      "Name: annual_income, dtype: float64\n",
      "count    238.000000\n",
      "mean     425.630252\n",
      "std      140.052062\n",
      "min      150.000000\n",
      "25%      320.000000\n",
      "50%      440.000000\n",
      "75%      527.500000\n",
      "max      640.000000\n",
      "Name: purchase_amount, dtype: float64\n",
      "count    238.000000\n",
      "mean       6.794118\n",
      "std        1.899047\n",
      "min        3.000000\n",
      "25%        5.500000\n",
      "50%        7.000000\n",
      "75%        8.275000\n",
      "max        9.500000\n",
      "Name: loyalty_score, dtype: float64\n",
      "count    238.000000\n",
      "mean      19.798319\n",
      "std        4.562884\n",
      "min       10.000000\n",
      "25%       17.000000\n",
      "50%       20.000000\n",
      "75%       23.000000\n",
      "max       28.000000\n",
      "Name: purchase_frequency, dtype: float64\n",
      "The count of the column age is: 238.0\n",
      "The mean of the column age is: 38.6764705882353\n",
      "The standard deviation of the column age is: 9.351118129694578\n",
      "The minimum of the column age is: 22.0\n",
      "The 25 percentile of the column age is: 31.0\n",
      "The 50 percentile of the column age is: 39.0\n",
      "The 75 percentile of the column age is: 46.75\n",
      "The maximum of the column age is: 55.0\n",
      "          user_id         age  annual_income  purchase_amount  loyalty_score  \\\n",
      "count  238.000000  238.000000     238.000000       238.000000     238.000000   \n",
      "mean   119.500000   38.676471   57407.563025       425.630252       6.794118   \n",
      "std     68.848868    9.351118   11403.875717       140.052062       1.899047   \n",
      "min      1.000000   22.000000   30000.000000       150.000000       3.000000   \n",
      "10%     24.700000   26.000000   43700.000000       230.000000       4.200000   \n",
      "20%     48.400000   29.000000   46400.000000       270.000000       4.500000   \n",
      "30%     72.100000   32.000000   52000.000000       360.000000       5.800000   \n",
      "40%     95.800000   36.000000   54000.000000       400.000000       6.500000   \n",
      "50%    119.500000   39.000000   59000.000000       440.000000       7.000000   \n",
      "max    238.000000   55.000000   75000.000000       640.000000       9.500000   \n",
      "\n",
      "       purchase_frequency  \n",
      "count          238.000000  \n",
      "mean            19.798319  \n",
      "std              4.562884  \n",
      "min             10.000000  \n",
      "10%             14.000000  \n",
      "20%             15.000000  \n",
      "30%             18.000000  \n",
      "40%             19.000000  \n",
      "50%             20.000000  \n",
      "max             28.000000  \n"
     ]
    }
   ],
   "source": [
    "# Using the Pandas describe() function to get some summary statistics for all numerical columns in the DataFrame.\n",
    "# Columns with not numerical data will be ignored.\n",
    "df_describe = df.describe()\n",
    "print(df_describe)\n",
    "\n",
    "# describe() returns a Pandas DataFrame or a Pandas Series. This means you can access the summary statistic for every\n",
    "# numerical column as follows:\n",
    "print(df_describe[\"user_id\"])  # summary statistics for the column user_id.\n",
    "print(df_describe[\"age\"])  # summary statistics for the column age.\n",
    "print(df_describe[\"annual_income\"])  # summary statistics for the column annual_income.\n",
    "print(df_describe[\"purchase_amount\"])  # summary statistics for the column purchase_amount.\n",
    "print(df_describe[\"loyalty_score\"])  # summary statistics for the column loyalty_score.\n",
    "print(df_describe[\"purchase_frequency\"])  # summary statistics for the column purchase_frequency.\n",
    "\n",
    "# You can also access every statistics for each numerical column. Here an example for the column age.\n",
    "print(\"The count of the column age is:\", df_describe.iloc[0, 1])\n",
    "print(\"The mean of the column age is:\", df_describe.iloc[1, 1])\n",
    "print(\"The standard deviation of the column age is:\", df_describe.iloc[2, 1])\n",
    "print(\"The minimum of the column age is:\", df_describe.iloc[3, 1])\n",
    "print(\"The 25 percentile of the column age is:\", df_describe.iloc[4, 1])\n",
    "print(\"The 50 percentile of the column age is:\", df_describe.iloc[5, 1])\n",
    "print(\"The 75 percentile of the column age is:\", df_describe.iloc[6, 1])\n",
    "print(\"The maximum of the column age is:\", df_describe.iloc[7, 1])\n",
    "\n",
    "# You can decide what percentiles you want to display.\n",
    "df_describe_percentiles = df.describe(percentiles=[0.1, 0.2, 0.3, 0.4, 0.5])\n",
    "print(df_describe_percentiles)"
   ]
  },
  {
   "cell_type": "markdown",
   "id": "4e40a23a-f733-4704-88ca-8c18bac3a6f8",
   "metadata": {
    "jp-MarkdownHeadingCollapsed": true
   },
   "source": [
    "# Statistical functions in Pandas."
   ]
  },
  {
   "cell_type": "code",
   "execution_count": 23,
   "id": "57c52f97-3207-49c2-8217-3395891541f6",
   "metadata": {},
   "outputs": [
    {
     "name": "stdout",
     "output_type": "stream",
     "text": [
      "13663000\n",
      "57407.56302521008\n",
      "30000\n",
      "75000\n",
      "59000.0\n",
      "130048381.3778676\n",
      "11403.875717398343\n",
      "238\n"
     ]
    }
   ],
   "source": [
    "# Computing some statistics for the numerical column annual_income.\n",
    "annual_income_sum = annual_income.sum()\n",
    "print(annual_income_sum)\n",
    "\n",
    "annual_income_mean = annual_income.mean()\n",
    "print(annual_income_mean)\n",
    "\n",
    "annual_income_min = annual_income.min()\n",
    "print(annual_income_min)\n",
    "\n",
    "annual_income_max = annual_income.max()\n",
    "print(annual_income_max)\n",
    "\n",
    "annual_income_median = annual_income.median()\n",
    "print(annual_income_median)\n",
    "\n",
    "annual_income_varianz = annual_income.var()\n",
    "print(annual_income_varianz)\n",
    "\n",
    "annual_income_standard_deviation = annual_income.std()\n",
    "print(annual_income_standard_deviation)\n",
    "\n",
    "annual_income_count = annual_income.count()\n",
    "print(annual_income_count)"
   ]
  }
 ],
 "metadata": {
  "kernelspec": {
   "display_name": "Python 3 (ipykernel)",
   "language": "python",
   "name": "python3"
  },
  "language_info": {
   "codemirror_mode": {
    "name": "ipython",
    "version": 3
   },
   "file_extension": ".py",
   "mimetype": "text/x-python",
   "name": "python",
   "nbconvert_exporter": "python",
   "pygments_lexer": "ipython3",
   "version": "3.11.0"
  }
 },
 "nbformat": 4,
 "nbformat_minor": 5
}
